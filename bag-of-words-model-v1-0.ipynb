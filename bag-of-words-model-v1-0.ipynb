{
 "cells": [
  {
   "cell_type": "markdown",
   "metadata": {},
   "source": [
    "### From jmportilla/Udemy---Machine-Learning/NLP (Natural Language Processing).ipynb\n",
    "\n",
    "https://github.com/jmportilla/Udemy---Machine-Learning/blob/master/NLP%20(Natural%20Language%20Processing).ipynb\n",
    "\n",
    "<br><br>\n",
    "\n",
    "N.b. another useful reference is:\n",
    "\n",
    "machine-learning-projects/Natural-Language-Processing/Restuarant_Reviews/Restuarant_Review_Classifier.py\n",
    "\n",
    "https://github.com/sayands/machine-learning-projects/blob/master/Natural-Language-Processing/Restuarant_Reviews/Restuarant_Review_Classifier.py\n"
   ]
  },
  {
   "cell_type": "code",
   "execution_count": 52,
   "metadata": {},
   "outputs": [],
   "source": [
    "# Imports\n",
    "\n",
    "import pandas as pd\n",
    "import numpy as np\n",
    "import pickle\n",
    "from sklearn.feature_extraction.text import CountVectorizer\n",
    "from sklearn.model_selection import train_test_split\n",
    "from sklearn.feature_extraction.text import TfidfTransformer\n",
    "from sklearn.naive_bayes import MultinomialNB\n",
    "from sklearn.metrics import classification_report\n",
    "from sklearn.cross_validation import train_test_split\n",
    "from sklearn.pipeline import Pipeline\n",
    "\n",
    "import matplotlib.pyplot as plt\n",
    "import seaborn as sns\n",
    "\n",
    "from IPython.core.interactiveshell import InteractiveShell\n",
    "InteractiveShell.ast_node_interactivity = \"all\"\n",
    "\n",
    "%matplotlib inline"
   ]
  },
  {
   "cell_type": "code",
   "execution_count": 2,
   "metadata": {},
   "outputs": [
    {
     "data": {
      "text/html": [
       "<div>\n",
       "<style>\n",
       "    .dataframe thead tr:only-child th {\n",
       "        text-align: right;\n",
       "    }\n",
       "\n",
       "    .dataframe thead th {\n",
       "        text-align: left;\n",
       "    }\n",
       "\n",
       "    .dataframe tbody tr th {\n",
       "        vertical-align: top;\n",
       "    }\n",
       "</style>\n",
       "<table border=\"1\" class=\"dataframe\">\n",
       "  <thead>\n",
       "    <tr style=\"text-align: right;\">\n",
       "      <th></th>\n",
       "      <th>Company</th>\n",
       "      <th>Symbol Yahoo</th>\n",
       "      <th>Period Start Date</th>\n",
       "      <th>Period End Date</th>\n",
       "      <th>return_ratio</th>\n",
       "      <th>max_index_return_ratio</th>\n",
       "      <th>relative_performance_pp</th>\n",
       "    </tr>\n",
       "  </thead>\n",
       "  <tbody>\n",
       "    <tr>\n",
       "      <th>0</th>\n",
       "      <td>ABCAM</td>\n",
       "      <td>ABC.L</td>\n",
       "      <td>2016-09-23</td>\n",
       "      <td>2017-08-25</td>\n",
       "      <td>1.29</td>\n",
       "      <td>1.23</td>\n",
       "      <td>0.06</td>\n",
       "    </tr>\n",
       "    <tr>\n",
       "      <th>1</th>\n",
       "      <td>ADVANCED MEDICAL SOLUTIONS</td>\n",
       "      <td>AMS.L</td>\n",
       "      <td>2017-03-28</td>\n",
       "      <td>2018-02-28</td>\n",
       "      <td>1.31</td>\n",
       "      <td>1.13</td>\n",
       "      <td>0.18</td>\n",
       "    </tr>\n",
       "    <tr>\n",
       "      <th>2</th>\n",
       "      <td>ALLIANCE PHARMA</td>\n",
       "      <td>APH.L</td>\n",
       "      <td>2017-12-04</td>\n",
       "      <td>2018-03-15</td>\n",
       "      <td>1.12</td>\n",
       "      <td>1.03</td>\n",
       "      <td>0.09</td>\n",
       "    </tr>\n",
       "    <tr>\n",
       "      <th>3</th>\n",
       "      <td>ASOS</td>\n",
       "      <td>ASC.L</td>\n",
       "      <td>2016-11-11</td>\n",
       "      <td>2017-10-13</td>\n",
       "      <td>1.23</td>\n",
       "      <td>1.29</td>\n",
       "      <td>-0.06</td>\n",
       "    </tr>\n",
       "    <tr>\n",
       "      <th>4</th>\n",
       "      <td>BLUE PRISM</td>\n",
       "      <td>PRSM.L</td>\n",
       "      <td>2017-06-30</td>\n",
       "      <td>2018-08-10</td>\n",
       "      <td>2.55</td>\n",
       "      <td>1.07</td>\n",
       "      <td>1.48</td>\n",
       "    </tr>\n",
       "  </tbody>\n",
       "</table>\n",
       "</div>"
      ],
      "text/plain": [
       "                      Company Symbol Yahoo Period Start Date Period End Date  \\\n",
       "0                       ABCAM        ABC.L        2016-09-23      2017-08-25   \n",
       "1  ADVANCED MEDICAL SOLUTIONS        AMS.L        2017-03-28      2018-02-28   \n",
       "2             ALLIANCE PHARMA        APH.L        2017-12-04      2018-03-15   \n",
       "3                        ASOS        ASC.L        2016-11-11      2017-10-13   \n",
       "4                  BLUE PRISM       PRSM.L        2017-06-30      2018-08-10   \n",
       "\n",
       "   return_ratio  max_index_return_ratio  relative_performance_pp  \n",
       "0          1.29                    1.23                     0.06  \n",
       "1          1.31                    1.13                     0.18  \n",
       "2          1.12                    1.03                     0.09  \n",
       "3          1.23                    1.29                    -0.06  \n",
       "4          2.55                    1.07                     1.48  "
      ]
     },
     "execution_count": 2,
     "metadata": {},
     "output_type": "execute_result"
    }
   ],
   "source": [
    "# Load response data\n",
    "\n",
    "responses_df = pd.read_csv('output/relative-performance.csv', index_col=0)\n",
    "\n",
    "responses_df.shape\n",
    "responses_df.head()"
   ]
  },
  {
   "cell_type": "code",
   "execution_count": 3,
   "metadata": {},
   "outputs": [
    {
     "data": {
      "text/plain": [
       "count    54.000000\n",
       "mean      0.197963\n",
       "std       0.549897\n",
       "min      -0.420000\n",
       "25%      -0.115000\n",
       "50%       0.050000\n",
       "75%       0.372500\n",
       "max       2.650000\n",
       "Name: relative_performance_pp, dtype: float64"
      ]
     },
     "execution_count": 3,
     "metadata": {},
     "output_type": "execute_result"
    },
    {
     "data": {
      "image/png": "[encoded data removed]",
      "text/plain": [
       "<matplotlib.figure.Figure at 0x7f8ef83a6e10>"
      ]
     },
     "metadata": {},
     "output_type": "display_data"
    }
   ],
   "source": [
    "# Set response field for modelling\n",
    "responses_df['relative_performance_pp'].plot(bins=50, kind='hist')\n",
    "\n",
    "responses_df['relative_performance_pp'].describe()"
   ]
  },
  {
   "cell_type": "code",
   "execution_count": 4,
   "metadata": {},
   "outputs": [
    {
     "data": {
      "text/plain": [
       "1    27\n",
       "0    27\n",
       "Name: response, dtype: int64"
      ]
     },
     "execution_count": 4,
     "metadata": {},
     "output_type": "execute_result"
    }
   ],
   "source": [
    "responses_df['response'] = np.where(responses_df['relative_performance_pp']>=0.05, 1,0)\n",
    "\n",
    "responses_df.head()\n",
    "\n",
    "responses_df['response'].value_counts()"
   ]
  },
  {
   "cell_type": "code",
   "execution_count": 5,
   "metadata": {
    "collapsed": true
   },
   "outputs": [],
   "source": [
    "# Load input data\n",
    "with open('data/ar_text_cleaned.pkl', 'rb') as f:\n",
    "    ar_text_cleaned = pickle.load(f)"
   ]
  },
  {
   "cell_type": "code",
   "execution_count": 27,
   "metadata": {},
   "outputs": [
    {
     "data": {
      "text/html": [
       "<div>\n",
       "<style>\n",
       "    .dataframe thead tr:only-child th {\n",
       "        text-align: right;\n",
       "    }\n",
       "\n",
       "    .dataframe thead th {\n",
       "        text-align: left;\n",
       "    }\n",
       "\n",
       "    .dataframe tbody tr th {\n",
       "        vertical-align: top;\n",
       "    }\n",
       "</style>\n",
       "<table border=\"1\" class=\"dataframe\">\n",
       "  <thead>\n",
       "    <tr style=\"text-align: right;\">\n",
       "      <th></th>\n",
       "      <th>name</th>\n",
       "      <th>input</th>\n",
       "      <th>response</th>\n",
       "      <th>response_raw</th>\n",
       "    </tr>\n",
       "  </thead>\n",
       "  <tbody>\n",
       "    <tr>\n",
       "      <th>0</th>\n",
       "      <td>ABCAM</td>\n",
       "      <td>aspire influential life science company resear...</td>\n",
       "      <td>1</td>\n",
       "      <td>0.06</td>\n",
       "    </tr>\n",
       "    <tr>\n",
       "      <th>1</th>\n",
       "      <td>ADVANCED MEDICAL SOLUTIONS</td>\n",
       "      <td>annual report creating quality outcome advance...</td>\n",
       "      <td>1</td>\n",
       "      <td>0.18</td>\n",
       "    </tr>\n",
       "    <tr>\n",
       "      <th>2</th>\n",
       "      <td>ALLIANCE PHARMA</td>\n",
       "      <td>alliance pharma plc avonbridge house bath road...</td>\n",
       "      <td>1</td>\n",
       "      <td>0.09</td>\n",
       "    </tr>\n",
       "    <tr>\n",
       "      <th>3</th>\n",
       "      <td>ASOS</td>\n",
       "      <td>annual report account asos global fashion dest...</td>\n",
       "      <td>0</td>\n",
       "      <td>-0.06</td>\n",
       "    </tr>\n",
       "    <tr>\n",
       "      <th>4</th>\n",
       "      <td>BLUE PRISM</td>\n",
       "      <td>blue prism slide deck commercial confidencecom...</td>\n",
       "      <td>1</td>\n",
       "      <td>1.48</td>\n",
       "    </tr>\n",
       "  </tbody>\n",
       "</table>\n",
       "</div>"
      ],
      "text/plain": [
       "                         name  \\\n",
       "0                       ABCAM   \n",
       "1  ADVANCED MEDICAL SOLUTIONS   \n",
       "2             ALLIANCE PHARMA   \n",
       "3                        ASOS   \n",
       "4                  BLUE PRISM   \n",
       "\n",
       "                                               input  response  response_raw  \n",
       "0  aspire influential life science company resear...         1          0.06  \n",
       "1  annual report creating quality outcome advance...         1          0.18  \n",
       "2  alliance pharma plc avonbridge house bath road...         1          0.09  \n",
       "3  annual report account asos global fashion dest...         0         -0.06  \n",
       "4  blue prism slide deck commercial confidencecom...         1          1.48  "
      ]
     },
     "execution_count": 27,
     "metadata": {},
     "output_type": "execute_result"
    }
   ],
   "source": [
    "# Create modelling dataset\n",
    "\n",
    "modelling_dataset = pd.DataFrame(ar_text_cleaned, columns=['input'])\n",
    "modelling_dataset['response'] = responses_df['response']\n",
    "modelling_dataset['response_raw'] = responses_df['relative_performance_pp']\n",
    "modelling_dataset.insert(0, 'name', responses_df['Company'])\n",
    "\n",
    "modelling_dataset.shape\n",
    "modelling_dataset.head()"
   ]
  },
  {
   "cell_type": "code",
   "execution_count": 8,
   "metadata": {},
   "outputs": [
    {
     "name": "stdout",
     "output_type": "stream",
     "text": [
      "19019\n"
     ]
    }
   ],
   "source": [
    "bow_transformer = CountVectorizer().fit(modelling_dataset['input'])\n",
    "\n",
    "# Print total number of vocab words\n",
    "print(len(bow_transformer.vocabulary_))"
   ]
  },
  {
   "cell_type": "code",
   "execution_count": 10,
   "metadata": {},
   "outputs": [
    {
     "name": "stdout",
     "output_type": "stream",
     "text": [
      "aspire influential life science company researcher worldwide abcam plc annual report account b ca p lc n n u l r e p rt n c c u n t icc image antibody ab staining actin hela cell delivering strong revenue performance whilst investing next chapter abcam growth committed serving life science researche\n",
      "<class 'scipy.sparse.csr.csr_matrix'>\n",
      "(1, 19019)\n",
      "  (0, 3)\t1\n",
      "  (0, 9)\t3\n",
      "  (0, 11)\t1\n",
      "  (0, 25)\t1\n",
      "  (0, 26)\t294\n",
      "  (0, 27)\t7\n",
      "  (0, 43)\t7\n",
      "  (0, 47)\t12\n",
      "  (0, 57)\t12\n",
      "  (0, 64)\t2\n",
      "  (0, 67)\t4\n",
      "  (0, 73)\t3\n",
      "  (0, 76)\t1\n",
      "  (0, 77)\t1\n",
      "  (0, 85)\t4\n",
      "  (0, 87)\t1\n",
      "  (0, 90)\t3\n",
      "  (0, 91)\t1\n",
      "  (0, 97)\t1\n",
      "  (0, 98)\t3\n",
      "  (0, 104)\t2\n",
      "  (0, 106)\t1\n",
      "  (0, 108)\t1\n",
      "  (0, 111)\t8\n",
      "  (0, 114)\t3\n",
      "  :\t:\n",
      "  (0, 18716)\t1\n",
      "  (0, 18717)\t28\n",
      "  (0, 18718)\t1\n",
      "  (0, 18721)\t3\n",
      "  (0, 18724)\t3\n",
      "  (0, 18725)\t13\n",
      "  (0, 18728)\t1\n",
      "  (0, 18734)\t2\n",
      "  (0, 18735)\t10\n",
      "  (0, 18745)\t1\n",
      "  (0, 18751)\t46\n",
      "  (0, 18770)\t2\n",
      "  (0, 18772)\t1\n",
      "  (0, 18773)\t6\n",
      "  (0, 18775)\t1\n",
      "  (0, 18784)\t8\n",
      "  (0, 18926)\t552\n",
      "  (0, 18932)\t8\n",
      "  (0, 18935)\t5\n",
      "  (0, 18939)\t10\n",
      "  (0, 18952)\t1\n",
      "  (0, 18955)\t1\n",
      "  (0, 18969)\t1\n",
      "  (0, 18981)\t1\n",
      "  (0, 18986)\t1\n"
     ]
    }
   ],
   "source": [
    "# Check BOW output for first AR\n",
    "\n",
    "print(modelling_dataset['input'][0][0:300])\n",
    "\n",
    "test_doc = modelling_dataset['input'][0]\n",
    "\n",
    "bow_test = bow_transformer.transform([test_doc])\n",
    "\n",
    "print(type(bow_test))\n",
    "print(bow_test.shape)\n",
    "print(bow_test)"
   ]
  },
  {
   "cell_type": "code",
   "execution_count": 11,
   "metadata": {},
   "outputs": [
    {
     "name": "stdout",
     "output_type": "stream",
     "text": [
      "26 \t abcam\n",
      "18926 \t year\n",
      "3 \t aaai\n",
      "18772 \t writing\n",
      "18986 \t zero\n"
     ]
    }
   ],
   "source": [
    "print(26,   \"\\t\"   , bow_transformer.get_feature_names()[26])\n",
    "print(18926,\"\\t\", bow_transformer.get_feature_names()[18926])\n",
    "print(3,    \"\\t\"    , bow_transformer.get_feature_names()[3])\n",
    "print(18772,\"\\t\", bow_transformer.get_feature_names()[18772])\n",
    "print(18986,\"\\t\", bow_transformer.get_feature_names()[18986])"
   ]
  },
  {
   "cell_type": "code",
   "execution_count": 12,
   "metadata": {},
   "outputs": [
    {
     "name": "stdout",
     "output_type": "stream",
     "text": [
      "Shape of Sparse Matrix:  (54, 19019)\n",
      "Amount of Non-Zero occurences:  139991\n",
      "sparsity: 13.63%\n"
     ]
    }
   ],
   "source": [
    "# BOW all docs\n",
    "\n",
    "bow_all = bow_transformer.transform(modelling_dataset['input'])\n",
    "\n",
    "print('Shape of Sparse Matrix: ', bow_all.shape)\n",
    "print('Amount of Non-Zero occurences: ', bow_all.nnz)\n",
    "print('sparsity: %.2f%%' % (100.0 * bow_all.nnz / (bow_all.shape[0] * bow_all.shape[1])))"
   ]
  },
  {
   "cell_type": "code",
   "execution_count": 13,
   "metadata": {},
   "outputs": [
    {
     "name": "stdout",
     "output_type": "stream",
     "text": [
      "  (0, 18986)\t0.000818791875027\n",
      "  (0, 18981)\t0.00123828826507\n",
      "  (0, 18969)\t0.00197512142378\n",
      "  (0, 18955)\t0.00155562503374\n",
      "  (0, 18952)\t0.000691686462723\n",
      "  (0, 18939)\t0.00529782914977\n",
      "  (0, 18935)\t0.00237389212105\n",
      "  (0, 18932)\t0.0102921954846\n",
      "  (0, 18926)\t0.252716740713\n",
      "  (0, 18784)\t0.00393911251133\n",
      "  (0, 18775)\t0.00147215454534\n",
      "  (0, 18773)\t0.0029543343835\n",
      "  (0, 18772)\t0.000735321386631\n",
      "  (0, 18770)\t0.00105956582995\n",
      "  (0, 18751)\t0.0214461562693\n",
      "  (0, 18745)\t0.000944434601797\n",
      "  (0, 18735)\t0.00691686462723\n",
      "  (0, 18734)\t0.00102140862702\n",
      "  (0, 18728)\t0.00102311111778\n",
      "  (0, 18725)\t0.00606087025002\n",
      "  (0, 18724)\t0.00191792128462\n",
      "  (0, 18721)\t0.00161888666933\n",
      "  (0, 18718)\t0.00197512142378\n",
      "  (0, 18717)\t0.0128189651086\n",
      "  (0, 18716)\t0.00178949131401\n",
      "  :\t:\n",
      "  (0, 114)\t0.0031579744659\n",
      "  (0, 111)\t0.00408563450806\n",
      "  (0, 108)\t0.000592309951332\n",
      "  (0, 106)\t0.000651850898235\n",
      "  (0, 104)\t0.000932441576926\n",
      "  (0, 98)\t0.0019555526947\n",
      "  (0, 97)\t0.0010526581553\n",
      "  (0, 91)\t0.00108424448431\n",
      "  (0, 90)\t0.00402134365934\n",
      "  (0, 87)\t0.00134044788645\n",
      "  (0, 85)\t0.0046192711067\n",
      "  (0, 77)\t0.00147215454534\n",
      "  (0, 76)\t0.00155562503374\n",
      "  (0, 73)\t0.00385957330672\n",
      "  (0, 67)\t0.00211913165991\n",
      "  (0, 64)\t0.0018419029928\n",
      "  (0, 57)\t0.0237014570854\n",
      "  (0, 47)\t0.00580198886767\n",
      "  (0, 43)\t0.00326354551924\n",
      "  (0, 27)\t0.0138258499665\n",
      "  (0, 26)\t0.52611044632\n",
      "  (0, 25)\t0.00197512142378\n",
      "  (0, 11)\t0.00178949131401\n",
      "  (0, 9)\t0.0031579744659\n",
      "  (0, 3)\t0.00197512142378\n"
     ]
    }
   ],
   "source": [
    "# TF-IDF\n",
    "\n",
    "tfidf_transformer = TfidfTransformer().fit(bow_all)\n",
    "\n",
    "# Look at output for one doc\n",
    "tfidf_test = tfidf_transformer.transform(bow_test)\n",
    "print(tfidf_test)"
   ]
  },
  {
   "cell_type": "code",
   "execution_count": 14,
   "metadata": {},
   "outputs": [
    {
     "name": "stdout",
     "output_type": "stream",
     "text": [
      "3.90872089656\n",
      "1.0\n",
      "1.60613580357\n",
      "1.78845736036\n",
      "1.0\n",
      "1.0\n"
     ]
    }
   ],
   "source": [
    "# Check TF_IDF results for some example words\n",
    "\n",
    "print(tfidf_transformer.idf_[bow_transformer.vocabulary_['abcam']])\n",
    "print(tfidf_transformer.idf_[bow_transformer.vocabulary_['year']])\n",
    "print(tfidf_transformer.idf_[bow_transformer.vocabulary_['writing']])\n",
    "print(tfidf_transformer.idf_[bow_transformer.vocabulary_['zero']])\n",
    "print(tfidf_transformer.idf_[bow_transformer.vocabulary_['growth']])\n",
    "print(tfidf_transformer.idf_[bow_transformer.vocabulary_['director']])\n"
   ]
  },
  {
   "cell_type": "code",
   "execution_count": 15,
   "metadata": {},
   "outputs": [
    {
     "name": "stdout",
     "output_type": "stream",
     "text": [
      "(54, 19019)\n"
     ]
    }
   ],
   "source": [
    "# TF-IDF on all the docs\n",
    "\n",
    "tfidf_all = tfidf_transformer.transform(bow_all)\n",
    "print(tfidf_all.shape)\n"
   ]
  },
  {
   "cell_type": "code",
   "execution_count": 118,
   "metadata": {
    "collapsed": true
   },
   "outputs": [],
   "source": [
    "# Naive Bayes model\n",
    "\n",
    "model_naive_bayes = MultinomialNB().fit(tfidf_all, responses_df['response'])"
   ]
  },
  {
   "cell_type": "code",
   "execution_count": 119,
   "metadata": {},
   "outputs": [
    {
     "name": "stdout",
     "output_type": "stream",
     "text": [
      "predicted: 1\n",
      "predicted: [ 0.3847515  0.6152485]\n",
      "expected: 1\n"
     ]
    }
   ],
   "source": [
    "# Check on one doc\n",
    "\n",
    "print('predicted:', model_naive_bayes.predict(tfidf_test)[0])\n",
    "print('predicted:', model_naive_bayes.predict_proba(tfidf_test)[0])\n",
    "print('expected:', responses_df.response[0])"
   ]
  },
  {
   "cell_type": "code",
   "execution_count": 120,
   "metadata": {},
   "outputs": [
    {
     "name": "stdout",
     "output_type": "stream",
     "text": [
      "[1 1 1 0 1 1 1 1 0 0 1 1 1 0 0 0 1 0 1 1 0 1 0 1 0 1 0 1 1 1 0 0 0 1 0 1 0\n",
      " 0 0 1 1 0 0 1 1 0 1 0 0 0 1 0 0 0]\n",
      "             precision    recall  f1-score   support\n",
      "\n",
      "          0       1.00      1.00      1.00        27\n",
      "          1       1.00      1.00      1.00        27\n",
      "\n",
      "avg / total       1.00      1.00      1.00        54\n",
      "\n"
     ]
    }
   ],
   "source": [
    "# Run predictions for all obs\n",
    "\n",
    "predictions_all  = model_naive_bayes.predict(tfidf_all)\n",
    "print(predictions_all)\n",
    "\n",
    "print(classification_report(responses_df['response'], predictions_all))"
   ]
  },
  {
   "cell_type": "code",
   "execution_count": 113,
   "metadata": {},
   "outputs": [
    {
     "name": "stdout",
     "output_type": "stream",
     "text": [
      "Training set:  43 11 54\n",
      "Test set:  43 11 54\n",
      "Names set test:  17       FIRST DERIV.\n",
      "34     MULBERRY GROUP\n",
      "46     SMART METERING\n",
      "51       WATKIN JONES\n",
      "40       PURPLEBRICKS\n",
      "20           GB GROUP\n",
      "41              REDDE\n",
      "47       SOUND ENERGY\n",
      "42     RENEW HOLDINGS\n",
      "21    GOOCH & HOUSEGO\n",
      "33        MIDWICH GRP\n",
      "Name: name, dtype: object\n",
      "Raw responses set:  43 11 54\n"
     ]
    }
   ],
   "source": [
    "# Split into training and validation datasets\n",
    "\n",
    "input_train, input_test, label_train, label_test, names_train, names_test, resp_raw_train, resp_raw_test = train_test_split(\\\n",
    "                modelling_dataset['input'], \\\n",
    "                modelling_dataset['response'], \\\n",
    "                modelling_dataset['name'], \\\n",
    "                modelling_dataset['response_raw'], \\\n",
    "                test_size=0.2)\n",
    "\n",
    "print(\"Training set: \", len(input_train), len(input_test), len(input_train)+len(input_test))\n",
    "print(\"Test set: \", len(label_train), len(label_test), len(label_train)+len(label_test))\n",
    "# print(\"Names set train: \", names_train)\n",
    "print(\"Names set test: \", names_test)\n",
    "print(\"Raw responses set: \", len(resp_raw_train), len(resp_raw_test), len(resp_raw_train)+len(resp_raw_test))\n",
    "                  "
   ]
  },
  {
   "cell_type": "code",
   "execution_count": 114,
   "metadata": {
    "collapsed": true
   },
   "outputs": [],
   "source": [
    "# Set up pipeline\n",
    "\n",
    "pipeline = Pipeline([\n",
    "    ('bow', CountVectorizer()),  # strings to token integer counts\n",
    "    ('tfidf', TfidfTransformer()),  # integer counts to weighted TF-IDF scores\n",
    "    ('classifier', MultinomialNB()),  # train on TF-IDF vectors w/ Naive Bayes classifier\n",
    "])"
   ]
  },
  {
   "cell_type": "code",
   "execution_count": 115,
   "metadata": {},
   "outputs": [
    {
     "data": {
      "text/plain": [
       "Pipeline(memory=None,\n",
       "     steps=[('bow', CountVectorizer(analyzer='word', binary=False, decode_error='strict',\n",
       "        dtype=<class 'numpy.int64'>, encoding='utf-8', input='content',\n",
       "        lowercase=True, max_df=1.0, max_features=None, min_df=1,\n",
       "        ngram_range=(1, 1), preprocessor=None, stop_words=None,\n",
       "        strip_...f=False, use_idf=True)), ('classifier', MultinomialNB(alpha=1.0, class_prior=None, fit_prior=True))])"
      ]
     },
     "execution_count": 115,
     "metadata": {},
     "output_type": "execute_result"
    },
    {
     "name": "stdout",
     "output_type": "stream",
     "text": [
      "             precision    recall  f1-score   support\n",
      "\n",
      "          0       0.00      0.00      0.00         0\n",
      "          1       1.00      0.36      0.53        11\n",
      "\n",
      "avg / total       1.00      0.36      0.53        11\n",
      "\n"
     ]
    },
    {
     "name": "stderr",
     "output_type": "stream",
     "text": [
      "/home/stuart/anaconda3/lib/python3.6/site-packages/sklearn/metrics/classification.py:1137: UndefinedMetricWarning: Recall and F-score are ill-defined and being set to 0.0 in labels with no true samples.\n",
      "  'recall', 'true', average, warn_for)\n"
     ]
    }
   ],
   "source": [
    "# Call the pipeline on te training dataset\n",
    "\n",
    "pipeline.fit(input_train,label_train)\n",
    "\n",
    "predictions = pipeline.predict(input_test)\n",
    "\n",
    "predicted_prob = pipeline.predict_proba(input_test)\n",
    "\n",
    "\n",
    "print(classification_report(predictions,label_test))"
   ]
  },
  {
   "cell_type": "code",
   "execution_count": 117,
   "metadata": {},
   "outputs": [
    {
     "data": {
      "text/plain": [
       "(11, 4)"
      ]
     },
     "execution_count": 117,
     "metadata": {},
     "output_type": "execute_result"
    },
    {
     "data": {
      "text/html": [
       "<div>\n",
       "<style>\n",
       "    .dataframe thead tr:only-child th {\n",
       "        text-align: right;\n",
       "    }\n",
       "\n",
       "    .dataframe thead th {\n",
       "        text-align: left;\n",
       "    }\n",
       "\n",
       "    .dataframe tbody tr th {\n",
       "        vertical-align: top;\n",
       "    }\n",
       "</style>\n",
       "<table border=\"1\" class=\"dataframe\">\n",
       "  <thead>\n",
       "    <tr style=\"text-align: right;\">\n",
       "      <th></th>\n",
       "      <th>prediction</th>\n",
       "      <th>prob</th>\n",
       "      <th>name</th>\n",
       "      <th>response_raw</th>\n",
       "    </tr>\n",
       "  </thead>\n",
       "  <tbody>\n",
       "    <tr>\n",
       "      <th>9</th>\n",
       "      <td>1</td>\n",
       "      <td>0.693235</td>\n",
       "      <td>GOOCH &amp; HOUSEGO</td>\n",
       "      <td>0.18</td>\n",
       "    </tr>\n",
       "    <tr>\n",
       "      <th>5</th>\n",
       "      <td>1</td>\n",
       "      <td>0.687975</td>\n",
       "      <td>GB GROUP</td>\n",
       "      <td>-0.10</td>\n",
       "    </tr>\n",
       "    <tr>\n",
       "      <th>0</th>\n",
       "      <td>1</td>\n",
       "      <td>0.685372</td>\n",
       "      <td>FIRST DERIV.</td>\n",
       "      <td>0.01</td>\n",
       "    </tr>\n",
       "    <tr>\n",
       "      <th>4</th>\n",
       "      <td>1</td>\n",
       "      <td>0.670294</td>\n",
       "      <td>PURPLEBRICKS</td>\n",
       "      <td>1.96</td>\n",
       "    </tr>\n",
       "    <tr>\n",
       "      <th>10</th>\n",
       "      <td>1</td>\n",
       "      <td>0.664272</td>\n",
       "      <td>MIDWICH GRP</td>\n",
       "      <td>0.66</td>\n",
       "    </tr>\n",
       "    <tr>\n",
       "      <th>6</th>\n",
       "      <td>1</td>\n",
       "      <td>0.658664</td>\n",
       "      <td>REDDE</td>\n",
       "      <td>-0.40</td>\n",
       "    </tr>\n",
       "    <tr>\n",
       "      <th>2</th>\n",
       "      <td>1</td>\n",
       "      <td>0.641577</td>\n",
       "      <td>SMART METERING</td>\n",
       "      <td>0.39</td>\n",
       "    </tr>\n",
       "    <tr>\n",
       "      <th>3</th>\n",
       "      <td>1</td>\n",
       "      <td>0.635049</td>\n",
       "      <td>WATKIN JONES</td>\n",
       "      <td>-0.02</td>\n",
       "    </tr>\n",
       "    <tr>\n",
       "      <th>8</th>\n",
       "      <td>1</td>\n",
       "      <td>0.620363</td>\n",
       "      <td>RENEW HOLDINGS</td>\n",
       "      <td>-0.24</td>\n",
       "    </tr>\n",
       "    <tr>\n",
       "      <th>1</th>\n",
       "      <td>1</td>\n",
       "      <td>0.609188</td>\n",
       "      <td>MULBERRY GROUP</td>\n",
       "      <td>-0.28</td>\n",
       "    </tr>\n",
       "    <tr>\n",
       "      <th>7</th>\n",
       "      <td>1</td>\n",
       "      <td>0.590890</td>\n",
       "      <td>SOUND ENERGY</td>\n",
       "      <td>-0.42</td>\n",
       "    </tr>\n",
       "  </tbody>\n",
       "</table>\n",
       "</div>"
      ],
      "text/plain": [
       "    prediction      prob             name  response_raw\n",
       "9            1  0.693235  GOOCH & HOUSEGO          0.18\n",
       "5            1  0.687975         GB GROUP         -0.10\n",
       "0            1  0.685372     FIRST DERIV.          0.01\n",
       "4            1  0.670294     PURPLEBRICKS          1.96\n",
       "10           1  0.664272      MIDWICH GRP          0.66\n",
       "6            1  0.658664            REDDE         -0.40\n",
       "2            1  0.641577   SMART METERING          0.39\n",
       "3            1  0.635049     WATKIN JONES         -0.02\n",
       "8            1  0.620363   RENEW HOLDINGS         -0.24\n",
       "1            1  0.609188   MULBERRY GROUP         -0.28\n",
       "7            1  0.590890     SOUND ENERGY         -0.42"
      ]
     },
     "execution_count": 117,
     "metadata": {},
     "output_type": "execute_result"
    }
   ],
   "source": [
    "predictions_df = pd.DataFrame(predictions, columns=['prediction'])\n",
    "predictions_df['prob'] = predicted_prob[:,1]\n",
    "predictions_df = predictions_df.join(names_test.to_frame().reset_index().drop('index', axis=1))\n",
    "predictions_df = predictions_df.join(resp_raw_test.to_frame().reset_index().drop('index', axis=1))\n",
    "\n",
    "predictions_df.shape\n",
    "predictions_df.sort_values(by='prob', ascending=False)"
   ]
  },
  {
   "cell_type": "markdown",
   "metadata": {},
   "source": [
    "### machine-learning-projects/Natural-Language-Processing/Restuarant_Reviews/Restuarant_Review_Classifier.py\n",
    "\n",
    "https://github.com/sayands/machine-learning-projects/blob/master/Natural-Language-Processing/Restuarant_Reviews/Restuarant_Review_Classifier.py"
   ]
  },
  {
   "cell_type": "code",
   "execution_count": null,
   "metadata": {
    "collapsed": true
   },
   "outputs": [],
   "source": [
    "# Creating the Bag Of Words Model\n",
    "cv = CountVectorizer(max_features = 1500)\n",
    "X = cv.fit_transform(corpus).toarray()\n",
    "y = dataset.iloc[:,1].values\n",
    "\n",
    "#Splitting the dataset into the Training Set and Test set\n",
    "X_train, X_test, Y_train, Y_test = train_test_split(X, y, test_size=0.20, random_state = 0)\n",
    "\n",
    "#Fitting Classifier To The Training Set\n",
    "from sklearn.ensemble import RandomForestClassifier\n",
    "classifier = RandomForestClassifier(n_estimators = 10, criterion = 'entropy' ,random_state = 0)\n",
    "classifier.fit(X_train,Y_train)\n",
    "\n",
    "#Predicting The Test Set Results\n",
    "y_pred = classifier.predict(X_test)\n",
    "\n",
    "#Making The Confusion Matrix and Classification Report\n",
    "from sklearn.metrics import classification_report,confusion_matrix\n",
    "cm = confusion_matrix(Y_test, y_pred)\n",
    "cr = classification_report(Y_test, y_pred)"
   ]
  },
  {
   "cell_type": "markdown",
   "metadata": {},
   "source": [
    "## Scrap code"
   ]
  },
  {
   "cell_type": "code",
   "execution_count": 104,
   "metadata": {},
   "outputs": [
    {
     "data": {
      "text/plain": [
       "array([[ 0.46516361,  0.53483639],\n",
       "       [ 0.39584538,  0.60415462],\n",
       "       [ 0.45783098,  0.54216902],\n",
       "       [ 0.44194629,  0.55805371],\n",
       "       [ 0.40586503,  0.59413497],\n",
       "       [ 0.45778124,  0.54221876],\n",
       "       [ 0.40963751,  0.59036249],\n",
       "       [ 0.44960022,  0.55039978],\n",
       "       [ 0.44894104,  0.55105896],\n",
       "       [ 0.45437603,  0.54562397],\n",
       "       [ 0.48688105,  0.51311895]])"
      ]
     },
     "execution_count": 104,
     "metadata": {},
     "output_type": "execute_result"
    },
    {
     "data": {
      "text/plain": [
       "array([ 0.53483639,  0.60415462,  0.54216902,  0.55805371,  0.59413497,\n",
       "        0.54221876,  0.59036249,  0.55039978,  0.55105896,  0.54562397,\n",
       "        0.51311895])"
      ]
     },
     "execution_count": 104,
     "metadata": {},
     "output_type": "execute_result"
    }
   ],
   "source": [
    "predicted_prob\n",
    "\n",
    "predicted_prob[:,1]"
   ]
  },
  {
   "cell_type": "code",
   "execution_count": 98,
   "metadata": {},
   "outputs": [
    {
     "data": {
      "text/html": [
       "<div>\n",
       "<style>\n",
       "    .dataframe thead tr:only-child th {\n",
       "        text-align: right;\n",
       "    }\n",
       "\n",
       "    .dataframe thead th {\n",
       "        text-align: left;\n",
       "    }\n",
       "\n",
       "    .dataframe tbody tr th {\n",
       "        vertical-align: top;\n",
       "    }\n",
       "</style>\n",
       "<table border=\"1\" class=\"dataframe\">\n",
       "  <thead>\n",
       "    <tr style=\"text-align: right;\">\n",
       "      <th></th>\n",
       "      <th>response_raw</th>\n",
       "    </tr>\n",
       "  </thead>\n",
       "  <tbody>\n",
       "    <tr>\n",
       "      <th>0</th>\n",
       "      <td>0.04</td>\n",
       "    </tr>\n",
       "    <tr>\n",
       "      <th>1</th>\n",
       "      <td>0.09</td>\n",
       "    </tr>\n",
       "    <tr>\n",
       "      <th>2</th>\n",
       "      <td>-0.31</td>\n",
       "    </tr>\n",
       "    <tr>\n",
       "      <th>3</th>\n",
       "      <td>-0.10</td>\n",
       "    </tr>\n",
       "    <tr>\n",
       "      <th>4</th>\n",
       "      <td>0.06</td>\n",
       "    </tr>\n",
       "    <tr>\n",
       "      <th>5</th>\n",
       "      <td>-0.16</td>\n",
       "    </tr>\n",
       "    <tr>\n",
       "      <th>6</th>\n",
       "      <td>1.48</td>\n",
       "    </tr>\n",
       "    <tr>\n",
       "      <th>7</th>\n",
       "      <td>0.18</td>\n",
       "    </tr>\n",
       "    <tr>\n",
       "      <th>8</th>\n",
       "      <td>-0.06</td>\n",
       "    </tr>\n",
       "    <tr>\n",
       "      <th>9</th>\n",
       "      <td>0.14</td>\n",
       "    </tr>\n",
       "    <tr>\n",
       "      <th>10</th>\n",
       "      <td>-0.09</td>\n",
       "    </tr>\n",
       "  </tbody>\n",
       "</table>\n",
       "</div>"
      ],
      "text/plain": [
       "    response_raw\n",
       "0           0.04\n",
       "1           0.09\n",
       "2          -0.31\n",
       "3          -0.10\n",
       "4           0.06\n",
       "5          -0.16\n",
       "6           1.48\n",
       "7           0.18\n",
       "8          -0.06\n",
       "9           0.14\n",
       "10         -0.09"
      ]
     },
     "execution_count": 98,
     "metadata": {},
     "output_type": "execute_result"
    }
   ],
   "source": [
    "resp_raw_test.to_frame().reset_index().drop('index', axis=1)"
   ]
  },
  {
   "cell_type": "code",
   "execution_count": 69,
   "metadata": {},
   "outputs": [
    {
     "data": {
      "text/plain": [
       "pandas.core.series.Series"
      ]
     },
     "execution_count": 69,
     "metadata": {},
     "output_type": "execute_result"
    }
   ],
   "source": [
    "type(names_test)"
   ]
  },
  {
   "cell_type": "code",
   "execution_count": 96,
   "metadata": {},
   "outputs": [
    {
     "data": {
      "text/plain": [
       "31    microsoft word mc annual report full bleed mo ...\n",
       "2     alliance pharma plc avonbridge house bath road...\n",
       "48    annual report year ended december staffline gr...\n",
       "20    annual report account g b g roup plc g b g ann...\n",
       "0     aspire influential life science company resear...\n",
       "24    iomart group plc annual report account iomart ...\n",
       "4     blue prism slide deck commercial confidencecom...\n",
       "21    gooch housego plc dowlish ford ilminster ta pf...\n",
       "3     annual report account asos global fashion dest...\n",
       "43    rws holding plc annual report new horizon rws ...\n",
       "38    annual report account year ended september hig...\n",
       "Name: input, dtype: object"
      ]
     },
     "execution_count": 96,
     "metadata": {},
     "output_type": "execute_result"
    }
   ],
   "source": [
    "input_test"
   ]
  },
  {
   "cell_type": "code",
   "execution_count": null,
   "metadata": {
    "collapsed": true
   },
   "outputs": [],
   "source": []
  }
 ],
 "metadata": {
  "kernelspec": {
   "display_name": "Python 3",
   "language": "python",
   "name": "python3"
  },
  "language_info": {
   "codemirror_mode": {
    "name": "ipython",
    "version": 3
   },
   "file_extension": ".py",
   "mimetype": "text/x-python",
   "name": "python",
   "nbconvert_exporter": "python",
   "pygments_lexer": "ipython3",
   "version": "3.6.3"
  }
 },
 "nbformat": 4,
 "nbformat_minor": 2
}
